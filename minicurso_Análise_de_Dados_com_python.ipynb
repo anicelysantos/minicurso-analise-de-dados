{
  "nbformat": 4,
  "nbformat_minor": 0,
  "metadata": {
    "colab": {
      "name": "minicurso Análise de Dados com python.ipynb",
      "provenance": [],
      "include_colab_link": true
    },
    "kernelspec": {
      "name": "python3",
      "display_name": "Python 3"
    },
    "language_info": {
      "name": "python"
    }
  },
  "cells": [
    {
      "cell_type": "markdown",
      "metadata": {
        "id": "view-in-github",
        "colab_type": "text"
      },
      "source": [
        "<a href=\"https://colab.research.google.com/github/anicelysantos/minicurso-analise-de-dados/blob/main/minicurso_An%C3%A1lise_de_Dados_com_python.ipynb\" target=\"_parent\"><img src=\"https://colab.research.google.com/assets/colab-badge.svg\" alt=\"Open In Colab\"/></a>"
      ]
    },
    {
      "cell_type": "markdown",
      "metadata": {
        "id": "LL_Qhe9hZv7L"
      },
      "source": [
        "*Esse minicurso é uma porta de entrada bem iniciante sobre análise de dados e foi idealizado pela Hashtag Treinamentos. Esse notebook e alguns detalhes explicativos foram feitos por Anicely Santos.*"
      ]
    },
    {
      "cell_type": "markdown",
      "metadata": {
        "id": "tEjISDSTx4kt"
      },
      "source": [
        "# Desafio"
      ]
    },
    {
      "cell_type": "markdown",
      "metadata": {
        "id": "o3IRD24Ox8Tr"
      },
      "source": [
        "Você trabalha em uma grande empresa de cartão de crédito e o diretor da empresa percebeu que o número de clientes que cancelam seus cartões tem aumentado significativamente, causando prejuizos enormes para a empresa.\n",
        "\n",
        "O que fazer para evitar isso? Como saber as pessoas que têm maior tendência a cancelar o cartão?"
      ]
    },
    {
      "cell_type": "markdown",
      "metadata": {
        "id": "U4qyq9nJyRJ4"
      },
      "source": [
        "# O que temos"
      ]
    },
    {
      "cell_type": "markdown",
      "metadata": {
        "id": "OeycCiA6yUq_"
      },
      "source": [
        "Temos uma base de dados com informações dos clientes, tanto clientes atuais quanto clientes que cancelaram o cartão. \n",
        "\n",
        "Base de dados traduzida a partir dessa: https://www.kaggle.com/sakshigoyal7/credit-card-customers\n"
      ]
    },
    {
      "cell_type": "markdown",
      "metadata": {
        "id": "H_fBBLciFA7U"
      },
      "source": [
        "Nesse tutorial estou usando [um arquivo traduzido da base de dados do Kaggle](https://drive.google.com/file/d/1JEpO9r-0Mi9INCS6NH9ygYhme9NLh1UK/view?usp=sharing). Para facilitar, criei uma pasta no meu google drive e subi os arquivos para lá. Depois inclui o código abaixo para conseguir pegar os arquivos diretamente da pasta no meu drive.</br>\n",
        "Rodando o código a baixo, ele vai mostrar um link. Clique nele, autentique fazendo o login na sua conta google, pegue o código de autorização que vai gerar e cole no campo que vai gerar aqui. Dê enter e se tudo deu certo, vai aparecer a mensagem `Mounted at /content / drive`.\n"
      ]
    },
    {
      "cell_type": "code",
      "metadata": {
        "id": "GxwXNqHYXS-y",
        "colab": {
          "base_uri": "https://localhost:8080/"
        },
        "outputId": "e4128d20-b593-4efb-d3ee-44dbc400f8ac"
      },
      "source": [
        "from google.colab import drive\n",
        "drive.mount('/content/drive', )"
      ],
      "execution_count": 2,
      "outputs": [
        {
          "output_type": "stream",
          "text": [
            "Mounted at /content/drive\n"
          ],
          "name": "stdout"
        }
      ]
    },
    {
      "cell_type": "markdown",
      "metadata": {
        "id": "pRAfb3VjTOoc"
      },
      "source": [
        "# Passo a passo para resolução"
      ]
    },
    {
      "cell_type": "markdown",
      "metadata": {
        "id": "vKB9ZAPNTZP1"
      },
      "source": [
        " - **Passo 1:** Importar a base de dados\n",
        " - **Passo 2:** Visualizar e tratar a base de dados\n",
        " - **Passo 3:** \"Dar uma olhada\" na base de dados\n",
        " - **Passo 4:** Construir uma análise para identificar o motivo do cancelamento:\n",
        "  - Identificar qual é o motivo dos clientes estarem cancelando cartão de crédito\n"
      ]
    },
    {
      "cell_type": "code",
      "metadata": {
        "id": "hXS1aYJkVeJJ"
      },
      "source": [
        "#Passo 1\n",
        "\n",
        "import pandas as pd\n",
        "cardCancel = pd.read_csv('/content/drive/MyDrive/dados_pandas/ClientesBanco.csv', encoding='latin1')\n",
        "cardCancel.head()"
      ],
      "execution_count": null,
      "outputs": []
    },
    {
      "cell_type": "markdown",
      "metadata": {
        "id": "dsmLyWeV3mMO"
      },
      "source": [
        "Se tirar os parenteses do head, é possivel vê no final do dataframe a quantidade de linhas e colunas. Essa base tem **10127** linhas e \n",
        "**21** colunas. Vou usar o método `drop()` para exluir uma coluna que não vai fazer diferença na minha análise. "
      ]
    },
    {
      "cell_type": "code",
      "metadata": {
        "id": "DdkObVlDZh4m"
      },
      "source": [
        "#Passo 2\n",
        "cardCancel = cardCancel.drop('CLIENTNUM', axis=1) #excluir algumas colunas para facilitar a leitura\n",
        "cardCancel.head()"
      ],
      "execution_count": null,
      "outputs": []
    },
    {
      "cell_type": "markdown",
      "metadata": {
        "id": "sDseXUuL92K6"
      },
      "source": [
        "Precisamos saber se todos os campos estão preenchidos. Usaremos o método `info()`."
      ]
    },
    {
      "cell_type": "code",
      "metadata": {
        "id": "p1UNHxhb9B3T"
      },
      "source": [
        "cardCancel.info() #Mostra informações gerais sobre o dataframe"
      ],
      "execution_count": null,
      "outputs": []
    },
    {
      "cell_type": "markdown",
      "metadata": {
        "id": "skPyT0Q0-YJG"
      },
      "source": [
        "A coluna *Categoria Cartão* está com 1 linha sem preenchimento. Iremos escluir apenas essa linha, já que não provocará alterações significativas na análise. "
      ]
    },
    {
      "cell_type": "code",
      "metadata": {
        "id": "lIbRkzKD-tx7"
      },
      "source": [
        "cardCancel = cardCancel.dropna()\n",
        "cardCancel.info()"
      ],
      "execution_count": null,
      "outputs": []
    },
    {
      "cell_type": "markdown",
      "metadata": {
        "id": "u6azDyOO_9UH"
      },
      "source": [
        "Vamos vê as estatísticas gerais da tabela. Para isso usaremos o método `describe()`. Esse método só é aplicado em colunas numéricas."
      ]
    },
    {
      "cell_type": "code",
      "metadata": {
        "id": "krDypDPg_fcA"
      },
      "source": [
        "#Passo 3\n",
        "cardCancel.describe().round(1) #O método round arrendonda as casas para a quantidades de casas decimais que for passada como parametro, nesse caso é 1"
      ],
      "execution_count": null,
      "outputs": []
    },
    {
      "cell_type": "markdown",
      "metadata": {
        "id": "GXmuSby1GgGy"
      },
      "source": [
        "Uma coisa importante de saber é quantos clientes temos e quantos cancelaram. O método `value_counts()` apresenta essa contagem."
      ]
    },
    {
      "cell_type": "code",
      "metadata": {
        "id": "SIXYgQZlG6CQ"
      },
      "source": [
        "qtdCategoria = cardCancel['Categoria'].value_counts()\n",
        "qtdCategoria"
      ],
      "execution_count": null,
      "outputs": []
    },
    {
      "cell_type": "markdown",
      "metadata": {
        "id": "2l5A7vtHHjhn"
      },
      "source": [
        "É possivel também exibir a quantidade por porcentagem, basta passar o seguinte parametro:"
      ]
    },
    {
      "cell_type": "code",
      "metadata": {
        "id": "nTToFHtjHPeW"
      },
      "source": [
        "qtdCategoriaPercent = cardCancel['Categoria'].value_counts(normalize=True)\n",
        "qtdCategoriaPercent.round(2)"
      ],
      "execution_count": null,
      "outputs": []
    },
    {
      "cell_type": "markdown",
      "metadata": {
        "id": "WhaneUYiKU84"
      },
      "source": [
        "Existem diversas formas de descobrir o motivo de cancelamento:\n",
        "- Fazendo uma comparação entre *Clientes* e *Cancelados* em cada uma das colunas da base de dados"
      ]
    },
    {
      "cell_type": "code",
      "metadata": {
        "id": "8VoYfzDnNrgt"
      },
      "source": [
        "import plotly.express as px #Uma biblioteca para criação de gráficos"
      ],
      "execution_count": 12,
      "outputs": []
    },
    {
      "cell_type": "markdown",
      "metadata": {
        "id": "HJWkMpSgPvrq"
      },
      "source": [
        "Essa biblioteca possui muitos tipos de gráficos. Usarei o histograma e passarei como paramêtro **nome do dataframe**, **o que ficará no eixo X** e  colocarei uma **cor pra diferenciar a categoria**, já que é uma comparação. "
      ]
    },
    {
      "cell_type": "code",
      "metadata": {
        "id": "o9pu8ugOOlsj"
      },
      "source": [
        "compIdade = px.histogram(cardCancel, x='Idade', color='Categoria')\n",
        "compIdade.show()"
      ],
      "execution_count": null,
      "outputs": []
    },
    {
      "cell_type": "markdown",
      "metadata": {
        "id": "qyNtmNPB7kKe"
      },
      "source": [
        "Legal! Fiz isso para uma coluna. Mas eu preciso vê as comparações com todas as outras. Repetir essa etapa de código pode ser um trabalho cansativo, nesse caso vou usar a estrutura de repetição `for`. O `for` vai percorrer por toda a base de dados e criar um gráfico comparativo de cada coluna.<br> \n",
        "É importante saber que **o `for` percorre por padrão as colunas**, por isso chamei a variável que vai percorrer com esse nome. Se eu quisesse percorrer as linhas, bastava acrescentar `.index` junto ao nome da minha base de dados."
      ]
    },
    {
      "cell_type": "code",
      "metadata": {
        "id": "-haxy_2a6-cp"
      },
      "source": [
        "for coluna in cardCancel:\n",
        "  compTodasColunas = px.histogram(cardCancel, x=coluna, color='Categoria')\n",
        "  compTodasColunas.show()"
      ],
      "execution_count": null,
      "outputs": []
    },
    {
      "cell_type": "markdown",
      "metadata": {
        "id": "AlkdNYUUA4S_"
      },
      "source": [
        "Uma das coisas importantes sobre análise de dados é saber que o processo de análise é maior que o tempo que se leva codando. Olhando para esses gráficos, consegui chegar as seguintes conclusões:\n",
        "\n",
        "- Quanto mais produtos contratados um cliente tem, menos a chance dele cancelar.\n",
        "- Quanto mais transações e quanto maior o valor de transação, menor a chance dele cancelar.\n",
        "- Quanto maior a quantidade de contatos a pessoa teve que fazer com a empresa, maior a chance de cancelamento.\n",
        "\n",
        "Só com esses pontos é possivel perceber que talvez o caminho de uma solução esteja em criar programas de incentivo ao cliente para que ele passe a utilizar mais o cartão.\n",
        "<p>Talvez seja possílvel chegar a outras conclusões, mas o objetivo aqui é apresentar uma visão geral e introdutória sobre análise de dados."
      ]
    }
  ]
}