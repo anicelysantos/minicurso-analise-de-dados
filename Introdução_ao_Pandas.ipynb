{
  "nbformat": 4,
  "nbformat_minor": 0,
  "metadata": {
    "colab": {
      "name": "Introdução ao Pandas.ipynb",
      "provenance": [],
      "mount_file_id": "1v4ifg4WsTRVtzFYBnkghMUTyPqNlVV2T",
      "authorship_tag": "ABX9TyP9wBCyKPZuO4JjQQlPASRx",
      "include_colab_link": true
    },
    "kernelspec": {
      "name": "python3",
      "display_name": "Python 3"
    },
    "language_info": {
      "name": "python"
    }
  },
  "cells": [
    {
      "cell_type": "markdown",
      "metadata": {
        "id": "view-in-github",
        "colab_type": "text"
      },
      "source": [
        "<a href=\"https://colab.research.google.com/github/anicelysantos/minicurso-analise-de-dados/blob/main/Introdu%C3%A7%C3%A3o_ao_Pandas.ipynb\" target=\"_parent\"><img src=\"https://colab.research.google.com/assets/colab-badge.svg\" alt=\"Open In Colab\"/></a>"
      ]
    },
    {
      "cell_type": "markdown",
      "metadata": {
        "id": "4SYwZLRNDNuo"
      },
      "source": [
        "##**Pandas - \"A melhor biblioteca do Python para Dados\"**\n"
      ]
    },
    {
      "cell_type": "markdown",
      "metadata": {
        "id": "OAttQ0XvDZ8M"
      },
      "source": [
        "- Quase sempre que for trabalhar com dados no Python você vai usar o pandas, então é importante saber trabalhar com essa biblioteca muito bem\n",
        "- Aqui colocarei os principais comandos e os princípios básicos do Pandas.\n",
        "\n",
        "As base de dados que usei: [Vendas](/content/drive/MyDrive/dados_pandas/Gerentes.xlsx), [Vendas - Dez](https://drive.google.com/file/d/1pZaMUTRrmP3ZLA_DvSbnPGJgo2UsX8A_/view?usp=sharing), [Gerentes](https://drive.google.com/file/d/10Q9LcTyliRJ1af0F3TGXUmVQFPiR5TAq/view?usp=sharing)"
      ]
    },
    {
      "cell_type": "markdown",
      "metadata": {
        "id": "o1K96WZwEIWS"
      },
      "source": [
        "**Importando o pandas**"
      ]
    },
    {
      "cell_type": "code",
      "metadata": {
        "id": "u1t2tnEoDD5y"
      },
      "source": [
        "import pandas as pd"
      ],
      "execution_count": 1,
      "outputs": []
    },
    {
      "cell_type": "markdown",
      "metadata": {
        "id": "k1cKoCaSEGb3"
      },
      "source": [
        "**Criando um dataframe a partir de um dicionário**"
      ]
    },
    {
      "cell_type": "code",
      "metadata": {
        "id": "mYKb0HXhD3VA"
      },
      "source": [
        "venda = {'data': ['15/02/2021','16/02/2021'],\n",
        "         'valor': [500,300],\n",
        "         'produto':['feijão','arroz'],\n",
        "         'qtde': [50,70],\n",
        "         }\n",
        "vendas_df = pd.DataFrame(venda)"
      ],
      "execution_count": 6,
      "outputs": []
    },
    {
      "cell_type": "markdown",
      "metadata": {
        "id": "1pJKxyxnFchI"
      },
      "source": [
        "**Visualização dos Dados**\n",
        "- **print:** apresenta as informações sem tabulada sem estilo\n",
        "- **display:** aprensenta as informações mais estilizada na tabela"
      ]
    },
    {
      "cell_type": "code",
      "metadata": {
        "colab": {
          "base_uri": "https://localhost:8080/",
          "height": 110
        },
        "id": "gjEuJt_bFmV1",
        "outputId": "63a096d1-4ab6-45ba-9b2e-53bfdb053599"
      },
      "source": [
        "display(vendas_df)"
      ],
      "execution_count": 7,
      "outputs": [
        {
          "output_type": "display_data",
          "data": {
            "text/html": [
              "<div>\n",
              "<style scoped>\n",
              "    .dataframe tbody tr th:only-of-type {\n",
              "        vertical-align: middle;\n",
              "    }\n",
              "\n",
              "    .dataframe tbody tr th {\n",
              "        vertical-align: top;\n",
              "    }\n",
              "\n",
              "    .dataframe thead th {\n",
              "        text-align: right;\n",
              "    }\n",
              "</style>\n",
              "<table border=\"1\" class=\"dataframe\">\n",
              "  <thead>\n",
              "    <tr style=\"text-align: right;\">\n",
              "      <th></th>\n",
              "      <th>data</th>\n",
              "      <th>valor</th>\n",
              "      <th>produto</th>\n",
              "      <th>qtde</th>\n",
              "    </tr>\n",
              "  </thead>\n",
              "  <tbody>\n",
              "    <tr>\n",
              "      <th>0</th>\n",
              "      <td>15/02/2021</td>\n",
              "      <td>500</td>\n",
              "      <td>feijão</td>\n",
              "      <td>50</td>\n",
              "    </tr>\n",
              "    <tr>\n",
              "      <th>1</th>\n",
              "      <td>16/02/2021</td>\n",
              "      <td>300</td>\n",
              "      <td>arroz</td>\n",
              "      <td>70</td>\n",
              "    </tr>\n",
              "  </tbody>\n",
              "</table>\n",
              "</div>"
            ],
            "text/plain": [
              "         data  valor produto  qtde\n",
              "0  15/02/2021    500  feijão    50\n",
              "1  16/02/2021    300   arroz    70"
            ]
          },
          "metadata": {
            "tags": []
          }
        }
      ]
    },
    {
      "cell_type": "markdown",
      "metadata": {
        "id": "lr4lUl3PGru9"
      },
      "source": [
        "**Importando arquivos e bases de dados**"
      ]
    },
    {
      "cell_type": "code",
      "metadata": {
        "colab": {
          "base_uri": "https://localhost:8080/",
          "height": 203
        },
        "id": "a9z5y0TBGw_D",
        "outputId": "1c0a2911-1f2f-471b-93d2-957895b0ba96"
      },
      "source": [
        "#Importei uma base de dados em excel que está no meu drive\n",
        "vendas_df = pd.read_excel('/content/drive/MyDrive/dados_pandas/Vendas.xlsx')\n",
        "vendas_df.head()"
      ],
      "execution_count": 57,
      "outputs": [
        {
          "output_type": "execute_result",
          "data": {
            "text/html": [
              "<div>\n",
              "<style scoped>\n",
              "    .dataframe tbody tr th:only-of-type {\n",
              "        vertical-align: middle;\n",
              "    }\n",
              "\n",
              "    .dataframe tbody tr th {\n",
              "        vertical-align: top;\n",
              "    }\n",
              "\n",
              "    .dataframe thead th {\n",
              "        text-align: right;\n",
              "    }\n",
              "</style>\n",
              "<table border=\"1\" class=\"dataframe\">\n",
              "  <thead>\n",
              "    <tr style=\"text-align: right;\">\n",
              "      <th></th>\n",
              "      <th>Código Venda</th>\n",
              "      <th>Data</th>\n",
              "      <th>ID Loja</th>\n",
              "      <th>Produto</th>\n",
              "      <th>Quantidade</th>\n",
              "      <th>Valor Unitário</th>\n",
              "      <th>Valor Final</th>\n",
              "    </tr>\n",
              "  </thead>\n",
              "  <tbody>\n",
              "    <tr>\n",
              "      <th>0</th>\n",
              "      <td>1</td>\n",
              "      <td>2019-01-01</td>\n",
              "      <td>Iguatemi Esplanada</td>\n",
              "      <td>Sapato Estampa</td>\n",
              "      <td>1</td>\n",
              "      <td>358</td>\n",
              "      <td>358</td>\n",
              "    </tr>\n",
              "    <tr>\n",
              "      <th>1</th>\n",
              "      <td>1</td>\n",
              "      <td>2019-01-01</td>\n",
              "      <td>Iguatemi Esplanada</td>\n",
              "      <td>Camiseta</td>\n",
              "      <td>2</td>\n",
              "      <td>180</td>\n",
              "      <td>360</td>\n",
              "    </tr>\n",
              "    <tr>\n",
              "      <th>2</th>\n",
              "      <td>1</td>\n",
              "      <td>2019-01-01</td>\n",
              "      <td>Iguatemi Esplanada</td>\n",
              "      <td>Sapato Xadrez</td>\n",
              "      <td>1</td>\n",
              "      <td>368</td>\n",
              "      <td>368</td>\n",
              "    </tr>\n",
              "    <tr>\n",
              "      <th>3</th>\n",
              "      <td>2</td>\n",
              "      <td>2019-01-02</td>\n",
              "      <td>Norte Shopping</td>\n",
              "      <td>Relógio</td>\n",
              "      <td>3</td>\n",
              "      <td>200</td>\n",
              "      <td>600</td>\n",
              "    </tr>\n",
              "    <tr>\n",
              "      <th>4</th>\n",
              "      <td>2</td>\n",
              "      <td>2019-01-02</td>\n",
              "      <td>Norte Shopping</td>\n",
              "      <td>Chinelo Liso</td>\n",
              "      <td>1</td>\n",
              "      <td>71</td>\n",
              "      <td>71</td>\n",
              "    </tr>\n",
              "  </tbody>\n",
              "</table>\n",
              "</div>"
            ],
            "text/plain": [
              "   Código Venda       Data  ... Valor Unitário Valor Final\n",
              "0             1 2019-01-01  ...            358         358\n",
              "1             1 2019-01-01  ...            180         360\n",
              "2             1 2019-01-01  ...            368         368\n",
              "3             2 2019-01-02  ...            200         600\n",
              "4             2 2019-01-02  ...             71          71\n",
              "\n",
              "[5 rows x 7 columns]"
            ]
          },
          "metadata": {
            "tags": []
          },
          "execution_count": 57
        }
      ]
    },
    {
      "cell_type": "markdown",
      "metadata": {
        "id": "LZh4usvKILFr"
      },
      "source": [
        "**Resumos de visualização de Dados simples e úteis**\n",
        "- **head:** mostra as 5 primeiras linhas ou a quantidade informada por parametro\n",
        "- **shape:** mostra a quantidade total de linhas e colunas que contem. \n",
        "- **describe:** Mostra um resumo estatístico das colunas numéricas "
      ]
    },
    {
      "cell_type": "code",
      "metadata": {
        "colab": {
          "base_uri": "https://localhost:8080/"
        },
        "id": "eiPNXpdvJ0TX",
        "outputId": "2f15c9a9-2e06-47a4-9cad-bf42d31e5b6d"
      },
      "source": [
        "vendas_df.shape"
      ],
      "execution_count": 19,
      "outputs": [
        {
          "output_type": "execute_result",
          "data": {
            "text/plain": [
              "(93910, 7)"
            ]
          },
          "metadata": {
            "tags": []
          },
          "execution_count": 19
        }
      ]
    },
    {
      "cell_type": "code",
      "metadata": {
        "id": "_cGQHqQ4JlSz"
      },
      "source": [
        "vendas_df.describe()"
      ],
      "execution_count": null,
      "outputs": []
    },
    {
      "cell_type": "markdown",
      "metadata": {
        "id": "bNncZ8_fJdRj"
      },
      "source": [
        "**Edição de um dataframe**<br>\n",
        "Pegar 1 coluna (e os pd.Series)"
      ]
    },
    {
      "cell_type": "code",
      "metadata": {
        "id": "oM_ryFdxKRzX"
      },
      "source": [
        "produtos = vendas_df[['Produto', 'ID Loja']]\n",
        "produtos"
      ],
      "execution_count": null,
      "outputs": []
    },
    {
      "cell_type": "markdown",
      "metadata": {
        "id": "ivZgciWXLJaq"
      },
      "source": [
        "**.loc, um método muito importante**\n",
        "Esse método olha sempre os índices\n",
        "\n",
        "- Pegar 1 linha\n"
      ]
    },
    {
      "cell_type": "code",
      "metadata": {
        "id": "AmZA9YzfLqwe"
      },
      "source": [
        "vendas_df.loc[0] #Passa o índice por parametro"
      ],
      "execution_count": null,
      "outputs": []
    },
    {
      "cell_type": "code",
      "metadata": {
        "id": "_XDWjv6eMQlj"
      },
      "source": [
        "vendas_df.loc[1:5] #Pega um índice da linha 1 até a linha 5"
      ],
      "execution_count": null,
      "outputs": []
    },
    {
      "cell_type": "markdown",
      "metadata": {
        "id": "dcfYghriLug2"
      },
      "source": [
        "- Pegar linhas de acordo com alguma condição\n"
      ]
    },
    {
      "cell_type": "code",
      "metadata": {
        "id": "bLHhdKilMmq6"
      },
      "source": [
        "#Aqui eu peguei uma coluna e disse qual conteúdo da coluna eu quero que traga \n",
        "#(Da coluna ID Loja traga todas as linhas iguais a Norte Shopping)\n",
        "\n",
        "vendas_norteshopping_df = vendas_df.loc[vendas_df['ID Loja'] == 'Norte Shopping']\n",
        "\n",
        "vendas_norteshopping_df"
      ],
      "execution_count": null,
      "outputs": []
    },
    {
      "cell_type": "markdown",
      "metadata": {
        "id": "X0-9L1OzMl42"
      },
      "source": [
        "- Pegar linhas e colunas específicas: O loc permite não apenas filtrar por linhas, mas por colunas também"
      ]
    },
    {
      "cell_type": "code",
      "metadata": {
        "id": "fhzbUjZuOvur"
      },
      "source": [
        "#Fiz a mesma coisa de antes, só passando as colunas que eu queria relacionado ao\n",
        "#Norte Shopping.\n",
        "\n",
        "vendas_norteshopping_df = vendas_df.loc[vendas_df['ID Loja'] == 'Norte Shopping', ['ID Loja', 'Produto','Quantidade']]\n",
        "vendas_norteshopping_df"
      ],
      "execution_count": null,
      "outputs": []
    },
    {
      "cell_type": "markdown",
      "metadata": {
        "id": "mT_y_bUDOug7"
      },
      "source": [
        "- Pegar 1 valor específico"
      ]
    },
    {
      "cell_type": "code",
      "metadata": {
        "colab": {
          "base_uri": "https://localhost:8080/",
          "height": 35
        },
        "id": "TD6EGcqmP4mR",
        "outputId": "9df4a4cc-b4c1-4185-8077-f61fa9993432"
      },
      "source": [
        "#Sintaxe vendas_df.loc[linha,coluna]\n",
        "\n",
        "vendas_df.loc[1,'Produto']"
      ],
      "execution_count": 42,
      "outputs": [
        {
          "output_type": "execute_result",
          "data": {
            "application/vnd.google.colaboratory.intrinsic+json": {
              "type": "string"
            },
            "text/plain": [
              "'Cinto Linho'"
            ]
          },
          "metadata": {
            "tags": []
          },
          "execution_count": 42
        }
      ]
    },
    {
      "cell_type": "markdown",
      "metadata": {
        "id": "VppMsWIXQmoE"
      },
      "source": [
        "**Adicionar 1 coluna**\n",
        " - **A partir de uma coluna que já existe:** Como exemplo vou criar uma coluna chamada *comissão do vendedor* que vai conter o valor final multiplicado por 0,05 (5%)"
      ]
    },
    {
      "cell_type": "code",
      "metadata": {
        "id": "Y-VZvjEiRcdi"
      },
      "source": [
        "vendas_df['Comissão'] = vendas_df['Valor Final'] * 0.05\n",
        "vendas_df"
      ],
      "execution_count": null,
      "outputs": []
    },
    {
      "cell_type": "markdown",
      "metadata": {
        "id": "DVZdr6lUQxr8"
      },
      "source": [
        " - **Criar uma nova com valores padrão**"
      ]
    },
    {
      "cell_type": "code",
      "metadata": {
        "id": "NWcPplM0SIK9"
      },
      "source": [
        "#O : quer dizer pra preencer todas as linhas da coluna imposto\n",
        "vendas_df.loc[:,'Imposto'] = 0\n",
        "vendas_df"
      ],
      "execution_count": null,
      "outputs": []
    },
    {
      "cell_type": "markdown",
      "metadata": {
        "id": "y9sbIBLRS3pI"
      },
      "source": [
        "**Adicionar uma linha**<br>\n",
        "Vou adicionar linhas a partir de um dataframe:\n",
        "1. Primeiro importei o arquivo com o conteudo que eu quero incluir"
      ]
    },
    {
      "cell_type": "code",
      "metadata": {
        "id": "isMI7t52TD3S"
      },
      "source": [
        "vendas_dez_df = pd.read_excel('/content/drive/MyDrive/dados_pandas/Vendas - Dez.xlsx')\n",
        "vendas_dez_df"
      ],
      "execution_count": null,
      "outputs": []
    },
    {
      "cell_type": "markdown",
      "metadata": {
        "id": "otZlHIWHT6b6"
      },
      "source": [
        "2. Adicionei o conteudo que importei usando `append()`"
      ]
    },
    {
      "cell_type": "code",
      "metadata": {
        "id": "MGQdtWxOTw5L"
      },
      "source": [
        "vendas_df = vendas_df.append(vendas_dez_df)\n",
        "vendas_df"
      ],
      "execution_count": null,
      "outputs": []
    },
    {
      "cell_type": "markdown",
      "metadata": {
        "id": "zKMklLXwUloY"
      },
      "source": [
        "**Excluir linhas e colunas**"
      ]
    },
    {
      "cell_type": "code",
      "metadata": {
        "id": "jP5OxaWKUsvt"
      },
      "source": [
        "#Como parametro no drop passa a coluna e depois o eixo sendo 0 pra linha e 1 pra coluna\n",
        "vendas_df = (vendas_df.drop('Imposto', axis=1))\n",
        "vendas_df"
      ],
      "execution_count": null,
      "outputs": []
    },
    {
      "cell_type": "markdown",
      "metadata": {
        "id": "A-jIBGHXVcfc"
      },
      "source": [
        "**Valores Vazios**\n",
        "- Deletar linhas/colunas vazias"
      ]
    },
    {
      "cell_type": "code",
      "metadata": {
        "id": "fTmK96YnV2bj"
      },
      "source": [
        "#O parametro \"how=all\" exclui linhas completamente vazias. Caso eu também queria\n",
        "#a coluna eu passo o parametro axis=1\n",
        "vendas_df = vendas_df.dropna(how='all')"
      ],
      "execution_count": null,
      "outputs": []
    },
    {
      "cell_type": "markdown",
      "metadata": {
        "id": "oON2cJ7PVjkj"
      },
      "source": [
        "- Deletar linhas que possuem valores vazios"
      ]
    },
    {
      "cell_type": "code",
      "metadata": {
        "id": "ZepR8PEIWY5d"
      },
      "source": [
        "vendas_df.dropna()"
      ],
      "execution_count": null,
      "outputs": []
    },
    {
      "cell_type": "markdown",
      "metadata": {
        "id": "f64RBGlDVnEM"
      },
      "source": [
        "- Preencher valores vazios com média ( `mean()`)\n",
        "  \n",
        "  - `fillna()`: todo parametro passado dentro será o conteúdo que preencherá as linhas vazias coluna.\n"
      ]
    },
    {
      "cell_type": "code",
      "metadata": {
        "id": "HW7xXS1zWiPN"
      },
      "source": [
        "#\"mean()\" trás a média da coluna. No exemplo eu estou pedindo pra preencher os\n",
        "#espaços em brancos da coluna comissão com a média do conteudo da coluna\n",
        "\n",
        "vendas_df['Comissão'] = vendas_df['Comissão'].fillna(vendas_df['Comissão'].mean())\n",
        "vendas_df"
      ],
      "execution_count": null,
      "outputs": []
    },
    {
      "cell_type": "markdown",
      "metadata": {
        "id": "MMF57ID7XcJA"
      },
      "source": [
        " - Preencher com o último valor<br>\n",
        " Equivale a mesma coisa do excel que pega o ultimo valor preenchido e arrasta pra baixo copiando para as células sem conteúdo\n",
        "  "
      ]
    },
    {
      "cell_type": "code",
      "metadata": {
        "id": "qtaPymMGaXxm"
      },
      "source": [
        "vendas_df = vendas_df.ffill()"
      ],
      "execution_count": null,
      "outputs": []
    },
    {
      "cell_type": "markdown",
      "metadata": {
        "id": "FxcryDK0a6HX"
      },
      "source": [
        "**Calcular indicadores**\n",
        " - Groupby"
      ]
    },
    {
      "cell_type": "code",
      "metadata": {
        "id": "Oi69z0VncG_Q"
      },
      "source": [
        "#Agrupar produtos e apresente a soma da coluna de todas as outras colunas númericas\n",
        "faturamento_produto = vendas_df.groupby('Produto').sum()\n",
        "faturamento_produto"
      ],
      "execution_count": null,
      "outputs": []
    },
    {
      "cell_type": "code",
      "metadata": {
        "id": "ZInaHwzJdQVH"
      },
      "source": [
        "#Agrupar colunas específicas\n",
        "faturamento_produto = vendas_df[['Produto','Valor Final']].groupby('Produto').sum()\n",
        "faturamento_produto"
      ],
      "execution_count": null,
      "outputs": []
    },
    {
      "cell_type": "markdown",
      "metadata": {
        "id": "3CFtmgggbJDx"
      },
      "source": [
        "- Values Counts (`value_counts`)"
      ]
    },
    {
      "cell_type": "code",
      "metadata": {
        "id": "FQdNRpaRbLr-"
      },
      "source": [
        "#Quero transações eu tive por loja\n",
        "\n",
        "transacoes_loja = vendas_df = vendas_df['ID Loja'].value_counts()\n",
        "transacoes_loja"
      ],
      "execution_count": null,
      "outputs": []
    },
    {
      "cell_type": "markdown",
      "metadata": {
        "id": "8WfRGdAUdog5"
      },
      "source": [
        "**Mesclar 2 dataframes (Procurar informações de um dataframe em outro)**<br>\n",
        "Esse método é semelhante ao *procv* do excel"
      ]
    },
    {
      "cell_type": "code",
      "metadata": {
        "id": "08krsn1Pd3oT"
      },
      "source": [
        "#Vou importar a tabela gerentes\n",
        "\n",
        "gerentes_df = pd.read_excel('/content/drive/MyDrive/dados_pandas/Gerentes.xlsx')\n",
        "gerentes_df"
      ],
      "execution_count": null,
      "outputs": []
    },
    {
      "cell_type": "markdown",
      "metadata": {
        "id": "TbjrQghoe8xP"
      },
      "source": [
        "Preciso saber quem é o gerente de cada loja, vou ter que adicionar uma coluna na tabela original fazendo uma procura para que ele localize a loja correta"
      ]
    },
    {
      "cell_type": "code",
      "metadata": {
        "id": "FW_ceHjyfGDP"
      },
      "source": [
        "vendas_df = vendas_df.merge(gerentes_df)\n",
        "vendas_df"
      ],
      "execution_count": null,
      "outputs": []
    },
    {
      "cell_type": "markdown",
      "metadata": {
        "id": "HmIBbO6-frGT"
      },
      "source": [
        "E como dia o Professor Fernando Masanori \"Não é mágica, é pandas!\" 🐼"
      ]
    }
  ]
}